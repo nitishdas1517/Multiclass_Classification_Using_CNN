{
 "cells": [
  {
   "cell_type": "code",
   "execution_count": 37,
   "id": "861ecae7",
   "metadata": {},
   "outputs": [],
   "source": [
    "import tensorflow as tf\n",
    "from tensorflow.keras import datasets, layers, models\n",
    "import matplotlib.pyplot as plt\n",
    "import numpy as np"
   ]
  },
  {
   "cell_type": "code",
   "execution_count": 38,
   "id": "d7b27eb1",
   "metadata": {},
   "outputs": [],
   "source": [
    "(X_train, y_train), (X_test,y_test) = datasets.cifar10.load_data()"
   ]
  },
  {
   "cell_type": "code",
   "execution_count": 39,
   "id": "f27a553f",
   "metadata": {},
   "outputs": [
    {
     "name": "stdout",
     "output_type": "stream",
     "text": [
      "Training size: (50000, 32, 32, 3)\n",
      "Training size op: (50000, 1)\n",
      "Test size: (10000, 32, 32, 3)\n",
      "Test size op: (10000, 1)\n"
     ]
    }
   ],
   "source": [
    "print(\"Training size:\" , X_train.shape)\n",
    "print(\"Training size op:\" , y_train.shape)\n",
    "print(\"Test size:\" , X_test.shape)\n",
    "print(\"Test size op:\" , y_test.shape)"
   ]
  },
  {
   "cell_type": "code",
   "execution_count": 40,
   "id": "c1a7c9f3",
   "metadata": {},
   "outputs": [],
   "source": [
    "classes = [\"airplane\",\"automobile\",\"bird\",\"cat\",\"deer\",\"dog\",\"frog\",\"horse\",\"ship\",\"truck\"]"
   ]
  },
  {
   "cell_type": "code",
   "execution_count": 41,
   "id": "0e3ea126",
   "metadata": {},
   "outputs": [
    {
     "name": "stdout",
     "output_type": "stream",
     "text": [
      "[[6]\n",
      " [9]\n",
      " [9]\n",
      " [4]\n",
      " [1]]\n",
      "[[3]\n",
      " [8]\n",
      " [8]\n",
      " [0]\n",
      " [6]]\n"
     ]
    }
   ],
   "source": [
    "print(y_train[:5])\n",
    "print(y_test[:5])"
   ]
  },
  {
   "cell_type": "code",
   "execution_count": 42,
   "id": "6ddb1265",
   "metadata": {},
   "outputs": [],
   "source": [
    "y_train = y_train.reshape(50000,1)\n",
    "y_test = y_test.reshape(10000,1)"
   ]
  },
  {
   "cell_type": "code",
   "execution_count": 43,
   "id": "51192c08",
   "metadata": {},
   "outputs": [
    {
     "name": "stdout",
     "output_type": "stream",
     "text": [
      "[[6]\n",
      " [9]\n",
      " [9]\n",
      " [4]\n",
      " [1]]\n",
      "[[3]\n",
      " [8]\n",
      " [8]\n",
      " [0]\n",
      " [6]]\n"
     ]
    }
   ],
   "source": [
    "print(y_train[:5])\n",
    "print(y_test[:5])"
   ]
  },
  {
   "cell_type": "code",
   "execution_count": 44,
   "id": "3bb7aeef",
   "metadata": {},
   "outputs": [],
   "source": [
    "y_train = y_train.reshape(-1,)\n",
    "y_test = y_test.reshape(-1,)\n"
   ]
  },
  {
   "cell_type": "code",
   "execution_count": 45,
   "id": "3a7ed47c",
   "metadata": {},
   "outputs": [
    {
     "name": "stdout",
     "output_type": "stream",
     "text": [
      "[6 9 9 4 1]\n",
      "[3 8 8 0 6]\n"
     ]
    }
   ],
   "source": [
    "print(y_train[:5])\n",
    "print(y_test[:5])"
   ]
  },
  {
   "cell_type": "code",
   "execution_count": 46,
   "id": "3f6b56ec",
   "metadata": {},
   "outputs": [
    {
     "data": {
      "text/plain": [
       "(50000,)"
      ]
     },
     "execution_count": 46,
     "metadata": {},
     "output_type": "execute_result"
    }
   ],
   "source": [
    "y_train.shape"
   ]
  },
  {
   "cell_type": "code",
   "execution_count": null,
   "id": "05c19c2c",
   "metadata": {},
   "outputs": [],
   "source": []
  },
  {
   "cell_type": "code",
   "execution_count": 47,
   "id": "ed383d36",
   "metadata": {},
   "outputs": [
    {
     "data": {
      "image/png": "[encoded data removed]",
      "text/plain": [
       "<Figure size 1440x144 with 1 Axes>"
      ]
     },
     "metadata": {
      "needs_background": "light"
     },
     "output_type": "display_data"
    }
   ],
   "source": [
    "def plot_sample(X, y, index):\n",
    "    plt.figure(figsize = (20,2))\n",
    "    plt.imshow(X[index])\n",
    "    plt.xlabel(classes[y[index]])\n",
    "    \n",
    "plot_sample(X_train, y_train, 20)"
   ]
  },
  {
   "cell_type": "code",
   "execution_count": 48,
   "id": "4da8ebac",
   "metadata": {},
   "outputs": [],
   "source": [
    "X_train = X_train/255\n",
    "X_test = X_test/255"
   ]
  },
  {
   "cell_type": "code",
   "execution_count": 49,
   "id": "1284a3c8",
   "metadata": {},
   "outputs": [
    {
     "name": "stdout",
     "output_type": "stream",
     "text": [
      "Epoch 1/5\n",
      "1563/1563 [==============================] - 105s 67ms/step - loss: 1.8550 - accuracy: 0.3356\n",
      "Epoch 2/5\n",
      "1563/1563 [==============================] - 105s 67ms/step - loss: 1.6556 - accuracy: 0.4122\n",
      "Epoch 3/5\n",
      "1563/1563 [==============================] - 101s 64ms/step - loss: 1.5695 - accuracy: 0.4443\n",
      "Epoch 4/5\n",
      "1563/1563 [==============================] - 121s 78ms/step - loss: 1.5070 - accuracy: 0.4689\n",
      "Epoch 5/5\n",
      "1563/1563 [==============================] - 113s 72ms/step - loss: 1.4594 - accuracy: 0.4838\n"
     ]
    },
    {
     "data": {
      "text/plain": [
       "<tensorflow.python.keras.callbacks.History at 0x1e43e1eaf40>"
      ]
     },
     "execution_count": 49,
     "metadata": {},
     "output_type": "execute_result"
    }
   ],
   "source": [
    "ann = models.Sequential([\n",
    "        layers.Flatten(input_shape=(32,32,3)),\n",
    "        layers.Dense(3000, activation='relu'),\n",
    "        layers.Dense(1000, activation='relu'),\n",
    "        layers.Dense(10, activation='sigmoid')    \n",
    "    ])\n",
    "\n",
    "ann.compile(optimizer='SGD',\n",
    "              loss='sparse_categorical_crossentropy',\n",
    "              metrics=['accuracy'])\n",
    "\n",
    "ann.fit(X_train, y_train, epochs=5)"
   ]
  },
  {
   "cell_type": "code",
   "execution_count": 50,
   "id": "41f6798a",
   "metadata": {},
   "outputs": [],
   "source": [
    "cnn = models.Sequential([\n",
    "    layers.Conv2D(filters=32, kernel_size=(3, 3), activation='relu', input_shape=(32, 32, 3)),\n",
    "    layers.MaxPooling2D((2, 2)),\n",
    "    \n",
    "    layers.Conv2D(filters=64, kernel_size=(3, 3), activation='relu'),\n",
    "    layers.MaxPooling2D((2, 2)),\n",
    "    \n",
    "    layers.Flatten(),\n",
    "    layers.Dense(64, activation='relu'),\n",
    "    layers.Dense(10, activation='softmax')\n",
    "])"
   ]
  },
  {
   "cell_type": "code",
   "execution_count": 52,
   "id": "9222c0be",
   "metadata": {},
   "outputs": [],
   "source": [
    "cnn.compile(optimizer='adam',\n",
    "              loss='sparse_categorical_crossentropy',\n",
    "              metrics=['accuracy'])"
   ]
  },
  {
   "cell_type": "code",
   "execution_count": 54,
   "id": "cecf629a",
   "metadata": {},
   "outputs": [
    {
     "name": "stdout",
     "output_type": "stream",
     "text": [
      "Epoch 1/10\n",
      "1563/1563 [==============================] - 44s 28ms/step - loss: 1.3576 - accuracy: 0.5151\n",
      "Epoch 2/10\n",
      "1563/1563 [==============================] - 45s 29ms/step - loss: 1.1009 - accuracy: 0.6131\n",
      "Epoch 3/10\n",
      "1563/1563 [==============================] - 44s 28ms/step - loss: 0.9936 - accuracy: 0.6557\n",
      "Epoch 4/10\n",
      "1563/1563 [==============================] - 44s 28ms/step - loss: 0.9236 - accuracy: 0.6801\n",
      "Epoch 5/10\n",
      "1563/1563 [==============================] - 44s 28ms/step - loss: 0.8602 - accuracy: 0.7014\n",
      "Epoch 6/10\n",
      "1563/1563 [==============================] - 45s 29ms/step - loss: 0.8130 - accuracy: 0.7167\n",
      "Epoch 7/10\n",
      "1563/1563 [==============================] - 44s 28ms/step - loss: 0.7643 - accuracy: 0.7359\n",
      "Epoch 8/10\n",
      "1563/1563 [==============================] - 47s 30ms/step - loss: 0.7268 - accuracy: 0.7480\n",
      "Epoch 9/10\n",
      "1563/1563 [==============================] - 45s 29ms/step - loss: 0.6884 - accuracy: 0.7607\n",
      "Epoch 10/10\n",
      "1563/1563 [==============================] - 44s 28ms/step - loss: 0.6555 - accuracy: 0.77060s - loss: 0.6552 - accura\n"
     ]
    },
    {
     "data": {
      "text/plain": [
       "<tensorflow.python.keras.callbacks.History at 0x1e43e929670>"
      ]
     },
     "execution_count": 54,
     "metadata": {},
     "output_type": "execute_result"
    }
   ],
   "source": [
    "cnn.fit(X_train, y_train, epochs=10)"
   ]
  },
  {
   "cell_type": "code",
   "execution_count": 55,
   "id": "9b302bcd",
   "metadata": {},
   "outputs": [
    {
     "name": "stdout",
     "output_type": "stream",
     "text": [
      "313/313 [==============================] - 4s 12ms/step - loss: 0.9703 - accuracy: 0.6852\n"
     ]
    },
    {
     "data": {
      "text/plain": [
       "[0.9702721834182739, 0.6851999759674072]"
      ]
     },
     "execution_count": 55,
     "metadata": {},
     "output_type": "execute_result"
    }
   ],
   "source": [
    "cnn.evaluate(X_test,y_test)"
   ]
  },
  {
   "cell_type": "code",
   "execution_count": 56,
   "id": "aca142b4",
   "metadata": {},
   "outputs": [
    {
     "data": {
      "text/plain": [
       "array([[2.3339535e-03, 9.7169999e-05, 6.2184175e-03, 4.2546815e-01,\n",
       "        6.8819063e-05, 6.1369982e-02, 1.3948347e-03, 3.6932554e-06,\n",
       "        5.0295120e-01, 9.3860821e-05],\n",
       "       [4.9152197e-03, 1.0223644e-01, 6.8343829e-06, 3.7916710e-05,\n",
       "        6.1400499e-07, 6.5973961e-07, 5.5837667e-08, 3.7408407e-07,\n",
       "        8.7366563e-01, 1.9136218e-02],\n",
       "       [5.8353603e-02, 5.9007723e-02, 5.3167534e-03, 2.9746553e-02,\n",
       "        1.7894834e-02, 2.3185832e-03, 2.0752293e-04, 1.2124495e-02,\n",
       "        4.2948526e-01, 3.8554475e-01],\n",
       "       [7.8759402e-01, 2.1262985e-02, 5.1251795e-02, 1.9263437e-02,\n",
       "        2.1677041e-02, 2.5927025e-05, 2.6611303e-04, 1.6620831e-04,\n",
       "        9.8094903e-02, 3.9748289e-04],\n",
       "       [8.8702263e-06, 3.1166819e-05, 1.2732536e-01, 5.4824267e-02,\n",
       "        1.2269068e-01, 2.8442196e-03, 6.9205731e-01, 2.8101185e-05,\n",
       "        1.8085713e-04, 9.1601714e-06],\n",
       "       [3.1239967e-04, 7.3324470e-04, 1.4153005e-02, 3.3717792e-02,\n",
       "        2.3320721e-02, 2.6324980e-02, 8.9811230e-01, 1.8306240e-03,\n",
       "        5.6250120e-04, 9.3234680e-04],\n",
       "       [4.6453264e-02, 4.6745995e-01, 5.7865574e-04, 7.2986163e-02,\n",
       "        2.9450555e-06, 2.5161656e-03, 5.0906730e-03, 2.9233890e-04,\n",
       "        1.7092312e-05, 4.0460262e-01],\n",
       "       [7.8374837e-03, 2.4112720e-05, 7.7815220e-02, 7.2881533e-03,\n",
       "        9.9935763e-02, 3.6848385e-03, 7.9706228e-01, 2.4556850e-05,\n",
       "        6.3067367e-03, 2.0909196e-05],\n",
       "       [8.1622172e-03, 1.4547665e-04, 8.0545016e-02, 7.7778387e-01,\n",
       "        5.1227052e-02, 5.4420069e-02, 1.1878702e-02, 1.3150500e-02,\n",
       "        5.5073318e-04, 2.1363248e-03],\n",
       "       [1.9599921e-03, 9.6217483e-01, 3.6779515e-05, 2.7169567e-04,\n",
       "        4.8610764e-05, 8.4810090e-06, 8.7328983e-05, 2.3367504e-06,\n",
       "        1.0020150e-02, 2.5389764e-02]], dtype=float32)"
      ]
     },
     "execution_count": 56,
     "metadata": {},
     "output_type": "execute_result"
    }
   ],
   "source": [
    "y_pred = cnn.predict(X_test)\n",
    "y_pred[:10]"
   ]
  },
  {
   "cell_type": "code",
   "execution_count": 57,
   "id": "c271d643",
   "metadata": {},
   "outputs": [
    {
     "data": {
      "text/plain": [
       "[8, 8, 8, 0, 6, 6, 1, 6, 3, 1]"
      ]
     },
     "execution_count": 57,
     "metadata": {},
     "output_type": "execute_result"
    }
   ],
   "source": [
    "y_classes = [np.argmax(element) for element in y_pred]\n",
    "y_classes[:10]"
   ]
  },
  {
   "cell_type": "code",
   "execution_count": 59,
   "id": "b24b796a",
   "metadata": {},
   "outputs": [
    {
     "data": {
      "text/plain": [
       "array([3, 8, 8, 0, 6, 6, 1, 6, 3, 1], dtype=uint8)"
      ]
     },
     "execution_count": 59,
     "metadata": {},
     "output_type": "execute_result"
    }
   ],
   "source": [
    "y_test[:10]"
   ]
  },
  {
   "cell_type": "code",
   "execution_count": 64,
   "id": "338f27ba",
   "metadata": {},
   "outputs": [
    {
     "data": {
      "image/png": "[encoded data removed]",
      "text/plain": [
       "<Figure size 1440x144 with 1 Axes>"
      ]
     },
     "metadata": {
      "needs_background": "light"
     },
     "output_type": "display_data"
    }
   ],
   "source": [
    "plot_sample(X_test, y_test, 121)"
   ]
  },
  {
   "cell_type": "code",
   "execution_count": 65,
   "id": "4d858ac7",
   "metadata": {},
   "outputs": [
    {
     "data": {
      "text/plain": [
       "'bird'"
      ]
     },
     "execution_count": 65,
     "metadata": {},
     "output_type": "execute_result"
    }
   ],
   "source": [
    "classes[y_classes[121]]"
   ]
  },
  {
   "cell_type": "code",
   "execution_count": null,
   "id": "ce18b5de",
   "metadata": {},
   "outputs": [],
   "source": []
  }
 ],
 "metadata": {
  "kernelspec": {
   "display_name": "Python 3",
   "language": "python",
   "name": "python3"
  },
  "language_info": {
   "codemirror_mode": {
    "name": "ipython",
    "version": 3
   },
   "file_extension": ".py",
   "mimetype": "text/x-python",
   "name": "python",
   "nbconvert_exporter": "python",
   "pygments_lexer": "ipython3",
   "version": "3.8.8"
  }
 },
 "nbformat": 4,
 "nbformat_minor": 5
}
